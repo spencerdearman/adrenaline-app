{
 "cells": [
  {
   "cell_type": "code",
   "execution_count": 1,
   "metadata": {},
   "outputs": [],
   "source": [
    "import bs4\n",
    "import json\n",
    "import requests\n",
    "from bs4 import BeautifulSoup\n",
    "\n",
    "link = \"https://secure.meetcontrol.com/divemeets/system/index.php\"\n"
   ]
  },
  {
   "cell_type": "code",
   "execution_count": 2,
   "metadata": {},
   "outputs": [],
   "source": [
    "html = requests.get(link).text\n",
    "soup = BeautifulSoup(html, \"html.parser\")\n",
    "tabs = (\n",
    "    soup.find(\"div\", {\"id\": \"dm_menu_centered\"})\n",
    "    .find(\"ul\")\n",
    "    .find_all(\"li\", recursive=False)\n",
    ")\n",
    "tab_dict = {tab.find(\"a\", recursive=False).text: tab for tab in tabs}\n"
   ]
  },
  {
   "cell_type": "code",
   "execution_count": 3,
   "metadata": {},
   "outputs": [],
   "source": [
    "seen_orgs = dict()\n",
    "\n",
    "meets = (\n",
    "    tab_dict[\"Meets\"]\n",
    "    .find(\"ul\", recursive=False)\n",
    "    .find(\"li\", recursive=False)\n",
    "    .find_all(\"a\")[1:]\n",
    ")\n",
    "upcoming_meets = {m.text.strip(): m[\"href\"] for m in meets}\n"
   ]
  },
  {
   "cell_type": "code",
   "execution_count": 4,
   "metadata": {},
   "outputs": [],
   "source": [
    "pmeets = (\n",
    "    tab_dict[\"Meets\"]\n",
    "    .find(\"ul\", recursive=False)\n",
    "    .find_all(\"li\", recursive=False)[1]\n",
    "    .find_all(\"a\")[1:]\n",
    ")\n",
    "past_meets = dict()\n",
    "last_key = None\n",
    "for a in pmeets:\n",
    "    if a[\"href\"] == \"#\":\n",
    "        last_key = a.text\n",
    "        past_meets[last_key] = dict()\n",
    "    else:\n",
    "        past_meets[last_key][a.text.strip()] = a[\"href\"]\n"
   ]
  },
  {
   "cell_type": "code",
   "execution_count": 5,
   "metadata": {},
   "outputs": [],
   "source": [
    "# with open(\"upcoming_meets.json\", \"w\") as f:\n",
    "#     json.dump(upcoming_meets, f)\n",
    "\n",
    "# with open(\"past_meets.json\", \"w\") as f:\n",
    "#     json.dump(past_meets, f)\n"
   ]
  },
  {
   "cell_type": "code",
   "execution_count": 6,
   "metadata": {},
   "outputs": [],
   "source": [
    "parse_link =\"https://secure.meetcontrol.com/divemeets/system/profile.php?number=56961\" \n",
    "soup = BeautifulSoup(requests.get(parse_link).text, \"html.parser\")\n",
    "result = soup.find(\"td\").text\n",
    "name_split = result.split(\"Name: \")[1].split(\"City/State: \")\n",
    "name = name_split[0]\n",
    "city_split = name_split[1].split(\"Country: \")\n",
    "city = city_split[0]\n",
    "country_split = city_split[1].split(\"Gender: \")\n",
    "country = country_split[0]\n",
    "age_split = country_split[1].split(\"FINA Age: \")\n",
    "gender_split = age_split[0].split(\"Age: \")\n",
    "gender = gender_split[0]\n",
    "age = gender_split[1]\n",
    "fina_age_split = age_split[1].split(\"High School Graduation: \")\n",
    "fina_age = fina_age_split[0]\n",
    "hs_grad_split = fina_age_split[1].split(\"DiveMeets #: \")\n",
    "hs_grad = hs_grad_split[0]\n",
    "dm_num = hs_grad_split[1].split(\"Diving:\")[0]"
   ]
  },
  {
   "cell_type": "code",
   "execution_count": 57,
   "metadata": {},
   "outputs": [],
   "source": [
    "# Logan\n",
    "# parse_link = \"https://secure.meetcontrol.com/divemeets/system/profile.php?number=56961\" \n",
    "# Beck\n",
    "# parse_link = \"https://secure.meetcontrol.com/divemeets/system/profile.php?number=16241\"\n",
    "# Jesus\n",
    "# parse_link = \"https://secure.meetcontrol.com/divemeets/system/profile.php?number=56797\"\n",
    "# Stephanie\n",
    "parse_link = \"https://secure.meetcontrol.com/divemeets/system/profile.php?number=20617\"\n",
    "\n",
    "soup = BeautifulSoup(requests.get(parse_link).text, \"html.parser\")"
   ]
  },
  {
   "cell_type": "code",
   "execution_count": 60,
   "metadata": {},
   "outputs": [
    {
     "name": "stdout",
     "output_type": "stream",
     "text": [
      "['Coaching:', 'Amateur Athletic Union (AAU):', 'Dominion Dive Club (', ('Coach Profile', 'profilec.php?number=20617'), 'USA Diving:', 'Dominion Dive Club (', ('Coach Profile', 'profilec.php?number=20617'), 'Judging:', 'Amateur Athletic Union (AAU)', 'USA Diving']\n",
      "[('Grosz, Madison', 'profile.php?number=43244'), ('Hansen, Kenneth V', 'profile.php?number=16072'), ('Palo, Brett', 'profile.php?number=16036'), ('Perreault, Joseph', 'profile.php?number=30060'), ('Powell, Max', 'profile.php?number=33610'), ('Warren, Matthew K', 'profile.php?number=37560'), ('Donnell, Minh', 'profile.php?number=43205'), ('Duncan, Samuel B', 'profile.php?number=40135'), ('Eisenberg, Michayla L', 'profile.php?number=47307'), ('Flory, Maxwell L', 'profile.php?number=23733'), ('Flory, Samuel A', 'profile.php?number=41815'), ('Gould, Mory E', 'profile.php?number=43888'), ('Green, Tanya M', 'profile.php?number=80844'), ('Joyce, Ellie C', 'profile.php?number=50039'), ('Miller, Liam M', 'profile.php?number=41743'), ('Reed, Dylan D', 'profile.php?number=43209'), ('Simmons, Ellie', 'profile.php?number=41833'), ('Stalfort, Amanda L', 'profile.php?number=58128'), ('Vroom, Claire', 'profile.php?number=46024'), ('Wiese, Annie B', 'profile.php?number=27789'), ('Winn, Shenandoah R', 'profile.php?number=42965')]\n"
     ]
    },
    {
     "data": {
      "text/plain": [
       "{'Coaching': {'Amateur Athletic Union (AAU):': 'Dominion Dive Club',\n",
       "  'USA Diving:': 'Dominion Dive Club'},\n",
       " 'Judging': ['Amateur Athletic Union (AAU)', 'USA Diving'],\n",
       " 'Diver List': [('Grosz, Madison', 'profile.php?number=43244'),\n",
       "  ('Hansen, Kenneth V', 'profile.php?number=16072'),\n",
       "  ('Palo, Brett', 'profile.php?number=16036'),\n",
       "  ('Perreault, Joseph', 'profile.php?number=30060'),\n",
       "  ('Powell, Max', 'profile.php?number=33610'),\n",
       "  ('Warren, Matthew K', 'profile.php?number=37560'),\n",
       "  ('Donnell, Minh', 'profile.php?number=43205'),\n",
       "  ('Duncan, Samuel B', 'profile.php?number=40135'),\n",
       "  ('Eisenberg, Michayla L', 'profile.php?number=47307'),\n",
       "  ('Flory, Maxwell L', 'profile.php?number=23733'),\n",
       "  ('Flory, Samuel A', 'profile.php?number=41815'),\n",
       "  ('Gould, Mory E', 'profile.php?number=43888'),\n",
       "  ('Green, Tanya M', 'profile.php?number=80844'),\n",
       "  ('Joyce, Ellie C', 'profile.php?number=50039'),\n",
       "  ('Miller, Liam M', 'profile.php?number=41743'),\n",
       "  ('Reed, Dylan D', 'profile.php?number=43209'),\n",
       "  ('Simmons, Ellie', 'profile.php?number=41833'),\n",
       "  ('Stalfort, Amanda L', 'profile.php?number=58128'),\n",
       "  ('Vroom, Claire', 'profile.php?number=46024'),\n",
       "  ('Wiese, Annie B', 'profile.php?number=27789'),\n",
       "  ('Winn, Shenandoah R', 'profile.php?number=42965')]}"
      ]
     },
     "execution_count": 60,
     "metadata": {},
     "output_type": "execute_result"
    }
   ],
   "source": [
    "items = []\n",
    "headers = {\"Diving:\", \"Coaching:\", \"Judging:\"}\n",
    "found_header = False\n",
    "parse_list = []\n",
    "diver_list = []\n",
    "\n",
    "for i in soup.td.contents:\n",
    "    if i == ')' or (isinstance(i, bs4.element.NavigableString) and i.strip() == \"\"):\n",
    "        continue\n",
    "    if not found_header and not isinstance(i, bs4.element.NavigableString) and i.text.strip() in headers:\n",
    "        found_header = True\n",
    "    elif not found_header:\n",
    "        continue\n",
    "    if isinstance(i, bs4.element.NavigableString):\n",
    "        items.append(i.strip())\n",
    "    elif i.name == 'strong':\n",
    "        items.append(i.text.strip())\n",
    "    elif i.name == 'a':\n",
    "        items.append((i.text.strip(), i['href']))\n",
    "    elif i.name == 'center':\n",
    "        parse_list = items\n",
    "        items = []\n",
    "    elif i.name == 'table':\n",
    "        break\n",
    "\n",
    "diver_list = items\n",
    "print(parse_list)\n",
    "print(diver_list)\n",
    "items = parse_list\n",
    "\n",
    "i = 0\n",
    "# Looks for \"Diving:\" line to start parsing teams instead of personal info\n",
    "# found_diving = False\n",
    "# new_items = {}\n",
    "orgs = {}\n",
    "orgName = \"\"\n",
    "while i < len(items):\n",
    "    if items[i] == \"Diving:\" or items[i] == \"Coaching:\" or items[i] == \"Judging:\":\n",
    "        orgName = items[i][:-1]\n",
    "    elif orgName == \"Diving\":\n",
    "        if orgName not in orgs:\n",
    "            orgs[orgName] = dict()\n",
    "        coach, link = items[i+3]\n",
    "        link = link[:7] + link[8:]\n",
    "        link = 'https://secure.meetcontrol.com/divemeets/system/' + link\n",
    "        org = {\"Team\":items[i+1], \"Coach\":coach, \"Link\": link}\n",
    "        orgs[\"Diving\"][items[i][:-1]] = org\n",
    "        i += 3\n",
    "    elif orgName == \"Coaching\":\n",
    "        if orgName not in orgs:\n",
    "            orgs[orgName] = dict()\n",
    "        orgs[\"Coaching\"][items[i]] = items[i+1][:-2]\n",
    "        i += 2\n",
    "    elif orgName == \"Judging\":\n",
    "        if orgName not in orgs:\n",
    "            orgs[orgName] = []\n",
    "        orgs[orgName].append(items[i])\n",
    "    i += 1\n",
    "# new_items = orgs\n",
    "if diver_list != []:\n",
    "    orgs[\"Diver List\"] = diver_list\n",
    "orgs\n"
   ]
  },
  {
   "cell_type": "code",
   "execution_count": null,
   "metadata": {},
   "outputs": [],
   "source": []
  }
 ],
 "metadata": {
  "kernelspec": {
   "display_name": "venv",
   "language": "python",
   "name": "python3"
  },
  "language_info": {
   "codemirror_mode": {
    "name": "ipython",
    "version": 3
   },
   "file_extension": ".py",
   "mimetype": "text/x-python",
   "name": "python",
   "nbconvert_exporter": "python",
   "pygments_lexer": "ipython3",
   "version": "3.10.8"
  },
  "orig_nbformat": 4
 },
 "nbformat": 4,
 "nbformat_minor": 2
}
